{
 "cells": [
  {
   "cell_type": "markdown",
   "metadata": {
    "nbgrader": {}
   },
   "source": [
    "# Algorithms Exercise 2"
   ]
  },
  {
   "cell_type": "markdown",
   "metadata": {
    "nbgrader": {}
   },
   "source": [
    "## Imports"
   ]
  },
  {
   "cell_type": "code",
   "execution_count": 1,
   "metadata": {
    "collapsed": true,
    "nbgrader": {}
   },
   "outputs": [],
   "source": [
    "%matplotlib inline\n",
    "from matplotlib import pyplot as plt\n",
    "import seaborn as sns\n",
    "import numpy as np"
   ]
  },
  {
   "cell_type": "markdown",
   "metadata": {
    "nbgrader": {}
   },
   "source": [
    "## Peak finding"
   ]
  },
  {
   "cell_type": "markdown",
   "metadata": {
    "nbgrader": {}
   },
   "source": [
    "Write a function `find_peaks` that finds and returns the indices of the local maxima in a sequence. Your function should:\n",
    "\n",
    "* Properly handle local maxima at the endpoints of the input array.\n",
    "* Return a Numpy array of integer indices.\n",
    "* Handle any Python iterable as input."
   ]
  },
  {
   "cell_type": "code",
   "execution_count": 60,
   "metadata": {
    "collapsed": false,
    "nbgrader": {
     "checksum": "16e8d0e271e2b778e4e94f95fe3933a2",
     "solution": true
    }
   },
   "outputs": [
    {
     "name": "stdout",
     "output_type": "stream",
     "text": [
      "[0 2 4 6]\n"
     ]
    }
   ],
   "source": [
    "def find_peaks(a):\n",
    "    \"\"\"Find the indices of the local maxima in a sequence.\"\"\"\n",
    "    n = 0\n",
    "    x = []\n",
    "    if a[n] > a[n+1]:\n",
    "        x.append(n)\n",
    "    while n < len(a) - 2:\n",
    "        n = n + 1\n",
    "        if a[n] > a[n+1] and a[n] > a[n-1]:\n",
    "            x.append(n)\n",
    "    if a[n+1] > a[n]:\n",
    "        x.append(n+1)\n",
    "    y = np.asarray(x)\n",
    "    return y\n",
    "print(find_peaks([2,0,1,0,2,0,1]))"
   ]
  },
  {
   "cell_type": "code",
   "execution_count": 61,
   "metadata": {
    "collapsed": false,
    "deletable": false,
    "nbgrader": {
     "checksum": "10f9a6cd367de8fdeafe16e190f7db83",
     "grade": true,
     "grade_id": "algorithmsex02a",
     "points": 5
    }
   },
   "outputs": [],
   "source": [
    "p1 = find_peaks([2,0,1,0,2,0,1])\n",
    "assert np.allclose(p1, np.array([0,2,4,6]))\n",
    "p2 = find_peaks(np.array([0,1,2,3]))\n",
    "assert np.allclose(p2, np.array([3]))\n",
    "p3 = find_peaks([3,2,1,0])\n",
    "assert np.allclose(p3, np.array([0]))"
   ]
  },
  {
   "cell_type": "markdown",
   "metadata": {
    "nbgrader": {}
   },
   "source": [
    "Here is a string with the first 10000 digits of $\\pi$ (after the decimal). Write code to perform the following:\n",
    "\n",
    "* Convert that string to a Numpy array of integers.\n",
    "* Find the indices of the local maxima in the digits of $\\pi$.\n",
    "* Use `np.diff` to find the distances between consequtive local maxima.\n",
    "* Visualize that distribution using an appropriately customized histogram."
   ]
  },
  {
   "cell_type": "code",
   "execution_count": 63,
   "metadata": {
    "collapsed": true,
    "nbgrader": {}
   },
   "outputs": [],
   "source": [
    "from sympy import pi, N\n",
    "pi_digits_str = str(N(pi, 10001))[2:]"
   ]
  },
  {
   "cell_type": "code",
   "execution_count": 72,
   "metadata": {
    "collapsed": false,
    "deletable": false,
    "nbgrader": {
     "checksum": "6cff4e8e53b15273846c3aecaea84a3d",
     "solution": true
    }
   },
   "outputs": [
    {
     "data": {
      "image/png": "[encoded data removed]",
      "text/plain": [
       "<matplotlib.figure.Figure at 0x7f71d1f08a90>"
      ]
     },
     "metadata": {},
     "output_type": "display_data"
    }
   ],
   "source": [
    "w = []\n",
    "for ints in pi_digits_str:\n",
    "    w.append(ints)\n",
    "x = find_peaks(w)\n",
    "plt.hist(np.diff(x), bins = 20)\n",
    "plt.show()"
   ]
  },
  {
   "cell_type": "code",
   "execution_count": null,
   "metadata": {
    "collapsed": true,
    "deletable": false,
    "nbgrader": {
     "checksum": "140552b7e8017eddb99806fbeaf8d8a0",
     "grade": true,
     "grade_id": "algorithmsex02b",
     "points": 5
    }
   },
   "outputs": [],
   "source": [
    "assert True # use this for grading the pi digits histogram"
   ]
  }
 ],
 "metadata": {
  "kernelspec": {
   "display_name": "Python 3",
   "language": "python",
   "name": "python3"
  },
  "language_info": {
   "codemirror_mode": {
    "name": "ipython",
    "version": 3
   },
   "file_extension": ".py",
   "mimetype": "text/x-python",
   "name": "python",
   "nbconvert_exporter": "python",
   "pygments_lexer": "ipython3",
   "version": "3.4.0"
  }
 },
 "nbformat": 4,
 "nbformat_minor": 0
}
