{
 "cells": [
  {
   "cell_type": "markdown",
   "metadata": {
    "nbgrader": {}
   },
   "source": [
    "# Matplotlib Exercise 3"
   ]
  },
  {
   "cell_type": "markdown",
   "metadata": {
    "nbgrader": {}
   },
   "source": [
    "## Imports"
   ]
  },
  {
   "cell_type": "code",
   "execution_count": 3,
   "metadata": {
    "collapsed": false,
    "nbgrader": {}
   },
   "outputs": [],
   "source": [
    "%matplotlib inline\n",
    "import matplotlib.pyplot as plt\n",
    "import numpy as np"
   ]
  },
  {
   "cell_type": "markdown",
   "metadata": {
    "nbgrader": {}
   },
   "source": [
    "## Contour plots of 2d wavefunctions"
   ]
  },
  {
   "cell_type": "markdown",
   "metadata": {
    "nbgrader": {}
   },
   "source": [
    "The wavefunction of a 2d quantum well is:\n",
    "\n",
    "$$ \\psi_{n_x,n_y}(x,y) = \\frac{2}{L}\n",
    "    \\sin{\\left( \\frac{n_x \\pi x}{L} \\right)} \n",
    "    \\sin{\\left( \\frac{n_y \\pi y}{L} \\right)} $$\n",
    "\n",
    "This is a scalar field and $n_x$ and $n_y$ are quantum numbers that measure the level of excitation in the x and y directions. $L$ is the size of the well.\n",
    "    \n",
    "Define a function `well2d` that computes this wavefunction for values of `x` and `y` that are NumPy arrays."
   ]
  },
  {
   "cell_type": "code",
   "execution_count": 23,
   "metadata": {
    "collapsed": false,
    "nbgrader": {
     "checksum": "702bb86154c0c4ec6fbd9e63c7f50289",
     "solution": true
    }
   },
   "outputs": [
    {
     "name": "stdout",
     "output_type": "stream",
     "text": [
      "(10,)\n"
     ]
    }
   ],
   "source": [
    "def well2d(x, y, nx, ny, L=1.0):\n",
    "    \"\"\"Compute the 2d quantum well wave function.\"\"\"\n",
    "    well_well_well = (2/L)*np.sin(nx*np.pi*x/L)*np.sin(ny*np.pi*y/L)\n",
    "    return well_well_well\n",
    "    #raise NotImplementedError()\n",
    "psi = well2d(0, np.linspace(0,1,10), 1, 1)\n",
    "print (psi.shape)\n",
    "#print (well2d(np.linspace(0,1,10), np.linspace(0,1,10), 1, 1))"
   ]
  },
  {
   "cell_type": "code",
   "execution_count": 48,
   "metadata": {
    "collapsed": false,
    "deletable": false,
    "nbgrader": {
     "checksum": "ee9cdf5b84f1f0d4d545448b2196c9b2",
     "grade": true,
     "grade_id": "matplotlibex03a",
     "points": 2
    }
   },
   "outputs": [],
   "source": [
    "psi = well2d(np.linspace(0,1,10), np.linspace(0,1,10), 1, 1)\n",
    "assert len(psi)==10\n",
    "assert psi.shape==(10,)"
   ]
  },
  {
   "cell_type": "markdown",
   "metadata": {
    "collapsed": false,
    "nbgrader": {}
   },
   "source": [
    "The `contour`, `contourf`, `pcolor` and `pcolormesh` functions of Matplotlib can be used for effective visualizations of 2d scalar fields. Use the Matplotlib documentation to learn how to use these functions along with the `numpy.meshgrid` function to visualize the above wavefunction:\n",
    "\n",
    "* Use $n_x=3$, $n_y=2$ and $L=0$.\n",
    "* Use the limits $[0,1]$ for the x and y axis.\n",
    "* Customize your plot to make it effective and beautiful.\n",
    "* Use a non-default colormap.\n",
    "* Add a colorbar to you visualization.\n",
    "\n",
    "First make a plot using one of the contour functions:"
   ]
  },
  {
   "cell_type": "code",
   "execution_count": 61,
   "metadata": {
    "collapsed": false,
    "deletable": false,
    "nbgrader": {
     "checksum": "6cff4e8e53b15273846c3aecaea84a3d",
     "solution": true
    }
   },
   "outputs": [
    {
     "data": {
      "text/plain": [
       "<matplotlib.contour.QuadContourSet at 0x7fdc04f010b8>"
      ]
     },
     "execution_count": 61,
     "metadata": {},
     "output_type": "execute_result"
    },
    {
     "data": {
      "image/png": "[encoded data removed]",
      "text/plain": [
       "<matplotlib.figure.Figure at 0x7fdc04f7c3c8>"
      ]
     },
     "metadata": {},
     "output_type": "display_data"
    }
   ],
   "source": [
    "x1 = np.linspace(0,1,100)\n",
    "y1 = np.linspace(0,1,100)\n",
    "x, y = np.meshgrid(x1, y1)\n",
    "psi = well2d(x, y, 3, 2, 1.)\n",
    "plt.figure(figsize=(5,5))\n",
    "plt.contourf(x, y, psi, cmap = 'summer')\n",
    "\n",
    "#raise NotImplementedError()"
   ]
  },
  {
   "cell_type": "code",
   "execution_count": null,
   "metadata": {
    "collapsed": true,
    "deletable": false,
    "nbgrader": {
     "checksum": "961e97980ad72d5d3aeace8b9915374a",
     "grade": true,
     "grade_id": "matplotlibex03b",
     "points": 4
    }
   },
   "outputs": [],
   "source": [
    "assert True # use this cell for grading the contour plot"
   ]
  },
  {
   "cell_type": "markdown",
   "metadata": {
    "nbgrader": {}
   },
   "source": [
    "Next make a visualization using one of the pcolor functions:"
   ]
  },
  {
   "cell_type": "code",
   "execution_count": 60,
   "metadata": {
    "collapsed": false,
    "deletable": false,
    "nbgrader": {
     "checksum": "6cff4e8e53b15273846c3aecaea84a3d",
     "solution": true
    }
   },
   "outputs": [
    {
     "data": {
      "text/plain": [
       "<matplotlib.collections.QuadMesh at 0x7fdc04f277b8>"
      ]
     },
     "execution_count": 60,
     "metadata": {},
     "output_type": "execute_result"
    },
    {
     "data": {
      "image/png": "[encoded data removed]",
      "text/plain": [
       "<matplotlib.figure.Figure at 0x7fdc04f57240>"
      ]
     },
     "metadata": {},
     "output_type": "display_data"
    }
   ],
   "source": [
    "x1 = np.linspace(0,1,100)\n",
    "y1 = np.linspace(0,1,100)\n",
    "x, y = np.meshgrid(x1, y1)\n",
    "psi = well2d(x, y, 3, 2, 1.)\n",
    "plt.figure(figsize=(5,5))\n",
    "plt.pcolormesh(x, y, psi, cmap = 'PuBu')\n",
    "#raise NotImplementedError()"
   ]
  },
  {
   "cell_type": "code",
   "execution_count": null,
   "metadata": {
    "collapsed": true,
    "deletable": false,
    "nbgrader": {
     "checksum": "50b5f6fadc515274f80f58c1694c20ad",
     "grade": true,
     "grade_id": "matplotlibex03c",
     "points": 4
    }
   },
   "outputs": [],
   "source": [
    "assert True # use this cell for grading the pcolor plot"
   ]
  }
 ],
 "metadata": {
  "kernelspec": {
   "display_name": "Python 3",
   "language": "python",
   "name": "python3"
  },
  "language_info": {
   "codemirror_mode": {
    "name": "ipython",
    "version": 3
   },
   "file_extension": ".py",
   "mimetype": "text/x-python",
   "name": "python",
   "nbconvert_exporter": "python",
   "pygments_lexer": "ipython3",
   "version": "3.4.0"
  }
 },
 "nbformat": 4,
 "nbformat_minor": 0
}
