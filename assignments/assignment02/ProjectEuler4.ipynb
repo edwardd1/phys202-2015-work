{
 "cells": [
  {
   "cell_type": "markdown",
   "metadata": {
    "nbgrader": {}
   },
   "source": [
    "# Project Euler: Problem 4"
   ]
  },
  {
   "cell_type": "markdown",
   "metadata": {
    "nbgrader": {}
   },
   "source": [
    "https://projecteuler.net/problem=4\n",
    "\n",
    "A palindromic number reads the same both ways. The largest palindrome made from the product of two 2-digit numbers is 9009 = 91 × 99.\n",
    "\n",
    "Find the largest palindrome made from the product of two 3-digit numbers."
   ]
  },
  {
   "cell_type": "code",
   "execution_count": 3,
   "metadata": {
    "collapsed": false,
    "deletable": false,
    "nbgrader": {
     "checksum": "6cff4e8e53b15273846c3aecaea84a3d",
     "solution": true
    }
   },
   "outputs": [
    {
     "name": "stdout",
     "output_type": "stream",
     "text": [
      "906609\n"
     ]
    }
   ],
   "source": [
    "n = 0\n",
    "x = 100\n",
    "y = 100\n",
    "z = 0\n",
    "while x < 1000: #Cycles through all of x up to 1000 (3 digit numbers)\n",
    "    x = x + 1\n",
    "    y = 100\n",
    "    while y < 1000: #Cycles through all of y up to 1000 for each x (Not very efficient but it works in this application)\n",
    "        y = y + 1\n",
    "        z = y * x\n",
    "        def check_palindrome(z): #This function takes the string of the product of x and y and splits it into two halves\n",
    "            pal = str(z)\n",
    "            leng = len(pal)\n",
    "            half = int(leng/2)\n",
    "            first = pal[0:int(half)] #The use of int() and round() Are used so the first half of the palindrome and the second half are the same length.\n",
    "            last = pal[leng:round(half-.5):-1] #Noah Miller told me that you can use the -1 to go backwards\n",
    "            if first == last: #If the halves match it is a palindrome\n",
    "                return True\n",
    "            else:\n",
    "                return False\n",
    "        if check_palindrome(z) == True and z > n: #The palindrome replaces an integer n only if the palindrome is larger\n",
    "            n = z\n",
    "print (n)"
   ]
  },
  {
   "cell_type": "code",
   "execution_count": 54,
   "metadata": {
    "collapsed": true,
    "deletable": false,
    "nbgrader": {
     "checksum": "aff23ddd30b5712efa3907cd1608bcf5",
     "grade": true,
     "grade_id": "projecteuler4",
     "points": 10
    }
   },
   "outputs": [],
   "source": [
    "# This cell will be used for grading, leave it at the end of the notebook."
   ]
  }
 ],
 "metadata": {
  "kernelspec": {
   "display_name": "Python 3",
   "language": "python",
   "name": "python3"
  },
  "language_info": {
   "codemirror_mode": {
    "name": "ipython",
    "version": 3
   },
   "file_extension": ".py",
   "mimetype": "text/x-python",
   "name": "python",
   "nbconvert_exporter": "python",
   "pygments_lexer": "ipython3",
   "version": "3.4.0"
  }
 },
 "nbformat": 4,
 "nbformat_minor": 0
}
