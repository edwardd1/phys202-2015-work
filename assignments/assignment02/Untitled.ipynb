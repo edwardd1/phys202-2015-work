{
 "cells": [
  {
   "cell_type": "code",
   "execution_count": 1,
   "metadata": {
    "collapsed": true
   },
   "outputs": [],
   "source": [
    "%matplotlib inline\n",
    "from matplotlib import pyplot as plt\n",
    "import seaborn as sns"
   ]
  },
  {
   "cell_type": "code",
   "execution_count": 4,
   "metadata": {
    "collapsed": true
   },
   "outputs": [],
   "source": [
    "import numpy as np"
   ]
  },
  {
   "cell_type": "code",
   "execution_count": 5,
   "metadata": {
    "collapsed": true
   },
   "outputs": [],
   "source": [
    "data = [111,2,4,6]\n",
    "a = np.array(data)"
   ]
  },
  {
   "cell_type": "code",
   "execution_count": 9,
   "metadata": {
    "collapsed": false
   },
   "outputs": [
    {
     "data": {
      "text/plain": [
       "(4,)"
      ]
     },
     "execution_count": 9,
     "metadata": {},
     "output_type": "execute_result"
    }
   ],
   "source": [
    "a.shape"
   ]
  },
  {
   "cell_type": "code",
   "execution_count": 12,
   "metadata": {
    "collapsed": false
   },
   "outputs": [
    {
     "data": {
      "text/plain": [
       "1"
      ]
     },
     "execution_count": 12,
     "metadata": {},
     "output_type": "execute_result"
    }
   ],
   "source": [
    "a.ndim"
   ]
  },
  {
   "cell_type": "code",
   "execution_count": 13,
   "metadata": {
    "collapsed": false
   },
   "outputs": [
    {
     "data": {
      "text/plain": [
       "4"
      ]
     },
     "execution_count": 13,
     "metadata": {},
     "output_type": "execute_result"
    }
   ],
   "source": [
    "a.size"
   ]
  },
  {
   "cell_type": "code",
   "execution_count": 15,
   "metadata": {
    "collapsed": false
   },
   "outputs": [
    {
     "data": {
      "text/plain": [
       "32"
      ]
     },
     "execution_count": 15,
     "metadata": {},
     "output_type": "execute_result"
    }
   ],
   "source": [
    "a.nbytes"
   ]
  },
  {
   "cell_type": "code",
   "execution_count": 16,
   "metadata": {
    "collapsed": false
   },
   "outputs": [
    {
     "data": {
      "text/plain": [
       "dtype('int64')"
      ]
     },
     "execution_count": 16,
     "metadata": {},
     "output_type": "execute_result"
    }
   ],
   "source": [
    "a.dtype"
   ]
  },
  {
   "cell_type": "code",
   "execution_count": 18,
   "metadata": {
    "collapsed": false
   },
   "outputs": [],
   "source": [
    "data = [[1,2,3,4],['a','b','c','d']]\n",
    "b = np.array(data)"
   ]
  },
  {
   "cell_type": "code",
   "execution_count": 19,
   "metadata": {
    "collapsed": false
   },
   "outputs": [
    {
     "data": {
      "text/plain": [
       "array([['1', '2', '3', '4'],\n",
       "       ['a', 'b', 'c', 'd']], \n",
       "      dtype='<U21')"
      ]
     },
     "execution_count": 19,
     "metadata": {},
     "output_type": "execute_result"
    }
   ],
   "source": [
    "b"
   ]
  },
  {
   "cell_type": "code",
   "execution_count": 20,
   "metadata": {
    "collapsed": false
   },
   "outputs": [
    {
     "data": {
      "text/plain": [
       "8"
      ]
     },
     "execution_count": 20,
     "metadata": {},
     "output_type": "execute_result"
    }
   ],
   "source": [
    "b.size"
   ]
  },
  {
   "cell_type": "code",
   "execution_count": 21,
   "metadata": {
    "collapsed": false
   },
   "outputs": [
    {
     "data": {
      "text/plain": [
       "(2, 4)"
      ]
     },
     "execution_count": 21,
     "metadata": {},
     "output_type": "execute_result"
    }
   ],
   "source": [
    "b.shape"
   ]
  },
  {
   "cell_type": "code",
   "execution_count": 22,
   "metadata": {
    "collapsed": false
   },
   "outputs": [
    {
     "data": {
      "text/plain": [
       "672"
      ]
     },
     "execution_count": 22,
     "metadata": {},
     "output_type": "execute_result"
    }
   ],
   "source": [
    "b.nbytes"
   ]
  },
  {
   "cell_type": "code",
   "execution_count": 43,
   "metadata": {
    "collapsed": false
   },
   "outputs": [],
   "source": [
    "e = np.linspace(1, 10, 5)"
   ]
  },
  {
   "cell_type": "code",
   "execution_count": 44,
   "metadata": {
    "collapsed": false
   },
   "outputs": [
    {
     "data": {
      "text/plain": [
       "array([  1.  ,   3.25,   5.5 ,   7.75,  10.  ])"
      ]
     },
     "execution_count": 44,
     "metadata": {},
     "output_type": "execute_result"
    }
   ],
   "source": [
    "e"
   ]
  },
  {
   "cell_type": "code",
   "execution_count": 46,
   "metadata": {
    "collapsed": false
   },
   "outputs": [],
   "source": [
    "a = np.ones((3,3))"
   ]
  },
  {
   "cell_type": "code",
   "execution_count": 47,
   "metadata": {
    "collapsed": false
   },
   "outputs": [
    {
     "data": {
      "text/plain": [
       "array([[ 1.,  1.,  1.],\n",
       "       [ 1.,  1.,  1.],\n",
       "       [ 1.,  1.,  1.]])"
      ]
     },
     "execution_count": 47,
     "metadata": {},
     "output_type": "execute_result"
    }
   ],
   "source": [
    "a"
   ]
  },
  {
   "cell_type": "code",
   "execution_count": 48,
   "metadata": {
    "collapsed": false
   },
   "outputs": [
    {
     "data": {
      "text/plain": [
       "array([[ 6.,  6.,  6.],\n",
       "       [ 6.,  6.,  6.],\n",
       "       [ 6.,  6.,  6.]])"
      ]
     },
     "execution_count": 48,
     "metadata": {},
     "output_type": "execute_result"
    }
   ],
   "source": [
    "6*a"
   ]
  },
  {
   "cell_type": "code",
   "execution_count": 49,
   "metadata": {
    "collapsed": false
   },
   "outputs": [
    {
     "data": {
      "text/plain": [
       "array([[ 1.,  1.,  1.],\n",
       "       [ 1.,  1.,  1.],\n",
       "       [ 1.,  1.,  1.]])"
      ]
     },
     "execution_count": 49,
     "metadata": {},
     "output_type": "execute_result"
    }
   ],
   "source": [
    "a"
   ]
  },
  {
   "cell_type": "code",
   "execution_count": 2,
   "metadata": {
    "collapsed": false
   },
   "outputs": [
    {
     "name": "stdout",
     "output_type": "stream",
     "text": [
      "Downloading:  https://raw.githubusercontent.com/ellisonbg/misc/master/vizarray.py\n",
      "Using existing version:  github.ellisonbg.misc.vizarray\n"
     ]
    }
   ],
   "source": [
    "import antipackage\n",
    "from github.ellisonbg.misc import vizarray as va"
   ]
  },
  {
   "cell_type": "code",
   "execution_count": 110,
   "metadata": {
    "collapsed": false
   },
   "outputs": [],
   "source": [
    "a = np.random.randint(0,10,(10,10))"
   ]
  },
  {
   "cell_type": "code",
   "execution_count": null,
   "metadata": {
    "collapsed": true
   },
   "outputs": [],
   "source": [
    "a = np.random.rand"
   ]
  },
  {
   "cell_type": "code",
   "execution_count": 111,
   "metadata": {
    "collapsed": false
   },
   "outputs": [
    {
     "data": {
      "text/plain": [
       "array([[9, 2, 8, 4, 9, 1, 8, 0, 4, 8],\n",
       "       [6, 9, 7, 7, 5, 1, 9, 4, 0, 7],\n",
       "       [6, 4, 7, 5, 6, 6, 8, 3, 6, 9],\n",
       "       [1, 7, 0, 9, 9, 0, 0, 8, 4, 1],\n",
       "       [2, 3, 3, 3, 1, 0, 5, 0, 4, 9],\n",
       "       [6, 3, 1, 2, 1, 1, 0, 6, 8, 0],\n",
       "       [1, 5, 6, 3, 0, 3, 1, 5, 9, 0],\n",
       "       [4, 3, 7, 9, 7, 0, 1, 5, 9, 6],\n",
       "       [8, 0, 5, 3, 4, 4, 9, 1, 8, 7],\n",
       "       [2, 8, 1, 7, 6, 1, 9, 5, 2, 2]])"
      ]
     },
     "execution_count": 111,
     "metadata": {},
     "output_type": "execute_result"
    }
   ],
   "source": [
    "a"
   ]
  },
  {
   "cell_type": "code",
   "execution_count": 95,
   "metadata": {
    "collapsed": false
   },
   "outputs": [
    {
     "ename": "AttributeError",
     "evalue": "'module' object has no attribute 'vizarrray'",
     "output_type": "error",
     "traceback": [
      "\u001b[1;31m---------------------------------------------------------------------------\u001b[0m",
      "\u001b[1;31mAttributeError\u001b[0m                            Traceback (most recent call last)",
      "\u001b[1;32m<ipython-input-95-16c3e1826f32>\u001b[0m in \u001b[0;36m<module>\u001b[1;34m()\u001b[0m\n\u001b[1;32m----> 1\u001b[1;33m \u001b[0mva\u001b[0m\u001b[1;33m.\u001b[0m\u001b[0mvizarrray\u001b[0m\u001b[1;33m(\u001b[0m\u001b[0ma\u001b[0m\u001b[1;33m)\u001b[0m\u001b[1;33m\u001b[0m\u001b[0m\n\u001b[0m",
      "\u001b[1;31mAttributeError\u001b[0m: 'module' object has no attribute 'vizarrray'"
     ]
    }
   ],
   "source": [
    "va.vizarrray(a)"
   ]
  },
  {
   "cell_type": "code",
   "execution_count": 101,
   "metadata": {
    "collapsed": true
   },
   "outputs": [],
   "source": [
    "va.disable()"
   ]
  },
  {
   "cell_type": "code",
   "execution_count": 103,
   "metadata": {
    "collapsed": true
   },
   "outputs": [],
   "source": [
    "np.set_printoptions(precision=2)"
   ]
  },
  {
   "cell_type": "code",
   "execution_count": 104,
   "metadata": {
    "collapsed": false
   },
   "outputs": [
    {
     "data": {
      "text/plain": [
       "array([[ 0.8 ,  0.98,  0.89,  0.16,  0.66,  0.67,  1.  ,  0.16,  0.99,\n",
       "         0.57],\n",
       "       [ 2.59,  2.16,  2.69,  1.1 ,  2.26,  1.67,  2.55,  0.82,  2.64,\n",
       "         1.32],\n",
       "       [ 0.95,  0.39,  0.19,  0.44,  0.79,  0.76,  0.48,  0.68,  0.86,\n",
       "         0.22],\n",
       "       [ 0.22,  0.99,  0.13,  0.95,  0.72,  0.88,  0.84,  0.88,  0.52,\n",
       "         0.45],\n",
       "       [ 0.79,  0.36,  0.51,  0.89,  0.71,  0.31,  0.93,  0.31,  0.6 ,\n",
       "         0.96],\n",
       "       [ 0.68,  0.85,  0.54,  0.31,  0.63,  0.81,  0.47,  0.59,  0.08,\n",
       "         0.69],\n",
       "       [ 0.86,  0.31,  0.36,  0.73,  0.25,  0.72,  0.33,  0.72,  0.18,\n",
       "         0.62],\n",
       "       [ 0.94,  0.62,  0.49,  0.52,  0.91,  0.49,  0.36,  0.09,  0.77,\n",
       "         0.62],\n",
       "       [ 0.57,  0.76,  0.66,  0.07,  0.89,  0.98,  0.77,  0.15,  0.9 ,\n",
       "         0.38],\n",
       "       [ 0.67,  0.87,  0.58,  0.01,  0.18,  0.11,  0.26,  0.27,  0.63,\n",
       "         0.47]])"
      ]
     },
     "execution_count": 104,
     "metadata": {},
     "output_type": "execute_result"
    }
   ],
   "source": [
    "a"
   ]
  },
  {
   "cell_type": "code",
   "execution_count": 98,
   "metadata": {
    "collapsed": false
   },
   "outputs": [
    {
     "data": {
      "text/plain": [
       "0.80001370524296767"
      ]
     },
     "execution_count": 98,
     "metadata": {},
     "output_type": "execute_result"
    }
   ],
   "source": [
    "a[0,0]"
   ]
  },
  {
   "cell_type": "code",
   "execution_count": 100,
   "metadata": {
    "collapsed": false
   },
   "outputs": [
    {
     "data": {
      "text/html": [
       "<style type=\"text/css\">table.blockgrid {border: none;} .blockgrid tr {border: none;} .blockgrid td {padding: 0px;} #blocksa00bb56b-d13f-4490-8c4d-ec83db89337a td {border: 1px solid white;}</style><table id=\"blocksa00bb56b-d13f-4490-8c4d-ec83db89337a\" class=\"blockgrid\"><tbody><tr><td title=\"Index: [0, 0]&#10;Color: (184, 213, 234)\" style=\"width: 30px; height: 30px;background-color: rgb(184, 213, 234);\"></td><td title=\"Index: [0, 1]&#10;Color: (163, 204, 227)\" style=\"width: 30px; height: 30px;background-color: rgb(163, 204, 227);\"></td><td title=\"Index: [0, 2]&#10;Color: (174, 209, 231)\" style=\"width: 30px; height: 30px;background-color: rgb(174, 209, 231);\"></td><td title=\"Index: [0, 3]&#10;Color: (236, 244, 251)\" style=\"width: 30px; height: 30px;background-color: rgb(236, 244, 251);\"></td><td title=\"Index: [0, 4]&#10;Color: (199, 220, 239)\" style=\"width: 30px; height: 30px;background-color: rgb(199, 220, 239);\"></td><td title=\"Index: [0, 5]&#10;Color: (199, 219, 239)\" style=\"width: 30px; height: 30px;background-color: rgb(199, 219, 239);\"></td><td title=\"Index: [0, 6]&#10;Color: (160, 203, 226)\" style=\"width: 30px; height: 30px;background-color: rgb(160, 203, 226);\"></td><td title=\"Index: [0, 7]&#10;Color: (236, 244, 251)\" style=\"width: 30px; height: 30px;background-color: rgb(236, 244, 251);\"></td><td title=\"Index: [0, 8]&#10;Color: (161, 203, 226)\" style=\"width: 30px; height: 30px;background-color: rgb(161, 203, 226);\"></td><td title=\"Index: [0, 9]&#10;Color: (206, 224, 242)\" style=\"width: 30px; height: 30px;background-color: rgb(206, 224, 242);\"></td></tr><tr><td title=\"Index: [1, 0]&#10;Color: (8, 57, 121)\" style=\"width: 30px; height: 30px;background-color: rgb(8, 57, 121);\"></td><td title=\"Index: [1, 1]&#10;Color: (22, 99, 170)\" style=\"width: 30px; height: 30px;background-color: rgb(22, 99, 170);\"></td><td title=\"Index: [1, 2]&#10;Color: (8, 48, 107)\" style=\"width: 30px; height: 30px;background-color: rgb(8, 48, 107);\"></td><td title=\"Index: [1, 3]&#10;Color: (145, 195, 222)\" style=\"width: 30px; height: 30px;background-color: rgb(145, 195, 222);\"></td><td title=\"Index: [1, 4]&#10;Color: (15, 90, 163)\" style=\"width: 30px; height: 30px;background-color: rgb(15, 90, 163);\"></td><td title=\"Index: [1, 5]&#10;Color: (68, 147, 199)\" style=\"width: 30px; height: 30px;background-color: rgb(68, 147, 199);\"></td><td title=\"Index: [1, 6]&#10;Color: (8, 61, 127)\" style=\"width: 30px; height: 30px;background-color: rgb(8, 61, 127);\"></td><td title=\"Index: [1, 7]&#10;Color: (181, 212, 233)\" style=\"width: 30px; height: 30px;background-color: rgb(181, 212, 233);\"></td><td title=\"Index: [1, 8]&#10;Color: (8, 52, 113)\" style=\"width: 30px; height: 30px;background-color: rgb(8, 52, 113);\"></td><td title=\"Index: [1, 9]&#10;Color: (111, 176, 215)\" style=\"width: 30px; height: 30px;background-color: rgb(111, 176, 215);\"></td></tr><tr><td title=\"Index: [2, 0]&#10;Color: (166, 206, 228)\" style=\"width: 30px; height: 30px;background-color: rgb(166, 206, 228);\"></td><td title=\"Index: [2, 1]&#10;Color: (219, 233, 246)\" style=\"width: 30px; height: 30px;background-color: rgb(219, 233, 246);\"></td><td title=\"Index: [2, 2]&#10;Color: (234, 242, 251)\" style=\"width: 30px; height: 30px;background-color: rgb(234, 242, 251);\"></td><td title=\"Index: [2, 3]&#10;Color: (215, 230, 245)\" style=\"width: 30px; height: 30px;background-color: rgb(215, 230, 245);\"></td><td title=\"Index: [2, 4]&#10;Color: (185, 214, 234)\" style=\"width: 30px; height: 30px;background-color: rgb(185, 214, 234);\"></td><td title=\"Index: [2, 5]&#10;Color: (189, 215, 236)\" style=\"width: 30px; height: 30px;background-color: rgb(189, 215, 236);\"></td><td title=\"Index: [2, 6]&#10;Color: (213, 229, 244)\" style=\"width: 30px; height: 30px;background-color: rgb(213, 229, 244);\"></td><td title=\"Index: [2, 7]&#10;Color: (199, 219, 239)\" style=\"width: 30px; height: 30px;background-color: rgb(199, 219, 239);\"></td><td title=\"Index: [2, 8]&#10;Color: (178, 210, 232)\" style=\"width: 30px; height: 30px;background-color: rgb(178, 210, 232);\"></td><td title=\"Index: [2, 9]&#10;Color: (232, 241, 250)\" style=\"width: 30px; height: 30px;background-color: rgb(232, 241, 250);\"></td></tr><tr><td title=\"Index: [3, 0]&#10;Color: (231, 241, 250)\" style=\"width: 30px; height: 30px;background-color: rgb(231, 241, 250);\"></td><td title=\"Index: [3, 1]&#10;Color: (161, 203, 226)\" style=\"width: 30px; height: 30px;background-color: rgb(161, 203, 226);\"></td><td title=\"Index: [3, 2]&#10;Color: (238, 245, 252)\" style=\"width: 30px; height: 30px;background-color: rgb(238, 245, 252);\"></td><td title=\"Index: [3, 3]&#10;Color: (166, 206, 228)\" style=\"width: 30px; height: 30px;background-color: rgb(166, 206, 228);\"></td><td title=\"Index: [3, 4]&#10;Color: (194, 217, 238)\" style=\"width: 30px; height: 30px;background-color: rgb(194, 217, 238);\"></td><td title=\"Index: [3, 5]&#10;Color: (175, 209, 231)\" style=\"width: 30px; height: 30px;background-color: rgb(175, 209, 231);\"></td><td title=\"Index: [3, 6]&#10;Color: (179, 211, 232)\" style=\"width: 30px; height: 30px;background-color: rgb(179, 211, 232);\"></td><td title=\"Index: [3, 7]&#10;Color: (174, 209, 231)\" style=\"width: 30px; height: 30px;background-color: rgb(174, 209, 231);\"></td><td title=\"Index: [3, 8]&#10;Color: (210, 227, 243)\" style=\"width: 30px; height: 30px;background-color: rgb(210, 227, 243);\"></td><td title=\"Index: [3, 9]&#10;Color: (215, 230, 245)\" style=\"width: 30px; height: 30px;background-color: rgb(215, 230, 245);\"></td></tr><tr><td title=\"Index: [4, 0]&#10;Color: (185, 214, 234)\" style=\"width: 30px; height: 30px;background-color: rgb(185, 214, 234);\"></td><td title=\"Index: [4, 1]&#10;Color: (221, 234, 247)\" style=\"width: 30px; height: 30px;background-color: rgb(221, 234, 247);\"></td><td title=\"Index: [4, 2]&#10;Color: (211, 227, 243)\" style=\"width: 30px; height: 30px;background-color: rgb(211, 227, 243);\"></td><td title=\"Index: [4, 3]&#10;Color: (173, 208, 230)\" style=\"width: 30px; height: 30px;background-color: rgb(173, 208, 230);\"></td><td title=\"Index: [4, 4]&#10;Color: (194, 217, 238)\" style=\"width: 30px; height: 30px;background-color: rgb(194, 217, 238);\"></td><td title=\"Index: [4, 5]&#10;Color: (225, 237, 248)\" style=\"width: 30px; height: 30px;background-color: rgb(225, 237, 248);\"></td><td title=\"Index: [4, 6]&#10;Color: (169, 207, 229)\" style=\"width: 30px; height: 30px;background-color: rgb(169, 207, 229);\"></td><td title=\"Index: [4, 7]&#10;Color: (225, 237, 248)\" style=\"width: 30px; height: 30px;background-color: rgb(225, 237, 248);\"></td><td title=\"Index: [4, 8]&#10;Color: (204, 223, 241)\" style=\"width: 30px; height: 30px;background-color: rgb(204, 223, 241);\"></td><td title=\"Index: [4, 9]&#10;Color: (165, 205, 227)\" style=\"width: 30px; height: 30px;background-color: rgb(165, 205, 227);\"></td></tr><tr><td title=\"Index: [5, 0]&#10;Color: (199, 219, 239)\" style=\"width: 30px; height: 30px;background-color: rgb(199, 219, 239);\"></td><td title=\"Index: [5, 1]&#10;Color: (178, 210, 232)\" style=\"width: 30px; height: 30px;background-color: rgb(178, 210, 232);\"></td><td title=\"Index: [5, 2]&#10;Color: (208, 226, 242)\" style=\"width: 30px; height: 30px;background-color: rgb(208, 226, 242);\"></td><td title=\"Index: [5, 3]&#10;Color: (225, 237, 248)\" style=\"width: 30px; height: 30px;background-color: rgb(225, 237, 248);\"></td><td title=\"Index: [5, 4]&#10;Color: (202, 221, 240)\" style=\"width: 30px; height: 30px;background-color: rgb(202, 221, 240);\"></td><td title=\"Index: [5, 5]&#10;Color: (183, 212, 234)\" style=\"width: 30px; height: 30px;background-color: rgb(183, 212, 234);\"></td><td title=\"Index: [5, 6]&#10;Color: (213, 229, 244)\" style=\"width: 30px; height: 30px;background-color: rgb(213, 229, 244);\"></td><td title=\"Index: [5, 7]&#10;Color: (205, 223, 241)\" style=\"width: 30px; height: 30px;background-color: rgb(205, 223, 241);\"></td><td title=\"Index: [5, 8]&#10;Color: (242, 248, 253)\" style=\"width: 30px; height: 30px;background-color: rgb(242, 248, 253);\"></td><td title=\"Index: [5, 9]&#10;Color: (198, 219, 239)\" style=\"width: 30px; height: 30px;background-color: rgb(198, 219, 239);\"></td></tr><tr><td title=\"Index: [6, 0]&#10;Color: (178, 210, 232)\" style=\"width: 30px; height: 30px;background-color: rgb(178, 210, 232);\"></td><td title=\"Index: [6, 1]&#10;Color: (225, 237, 248)\" style=\"width: 30px; height: 30px;background-color: rgb(225, 237, 248);\"></td><td title=\"Index: [6, 2]&#10;Color: (221, 234, 247)\" style=\"width: 30px; height: 30px;background-color: rgb(221, 234, 247);\"></td><td title=\"Index: [6, 3]&#10;Color: (193, 217, 237)\" style=\"width: 30px; height: 30px;background-color: rgb(193, 217, 237);\"></td><td title=\"Index: [6, 4]&#10;Color: (229, 239, 249)\" style=\"width: 30px; height: 30px;background-color: rgb(229, 239, 249);\"></td><td title=\"Index: [6, 5]&#10;Color: (194, 217, 238)\" style=\"width: 30px; height: 30px;background-color: rgb(194, 217, 238);\"></td><td title=\"Index: [6, 6]&#10;Color: (223, 236, 247)\" style=\"width: 30px; height: 30px;background-color: rgb(223, 236, 247);\"></td><td title=\"Index: [6, 7]&#10;Color: (193, 217, 237)\" style=\"width: 30px; height: 30px;background-color: rgb(193, 217, 237);\"></td><td title=\"Index: [6, 8]&#10;Color: (235, 243, 251)\" style=\"width: 30px; height: 30px;background-color: rgb(235, 243, 251);\"></td><td title=\"Index: [6, 9]&#10;Color: (202, 222, 240)\" style=\"width: 30px; height: 30px;background-color: rgb(202, 222, 240);\"></td></tr><tr><td title=\"Index: [7, 0]&#10;Color: (166, 206, 228)\" style=\"width: 30px; height: 30px;background-color: rgb(166, 206, 228);\"></td><td title=\"Index: [7, 1]&#10;Color: (202, 222, 240)\" style=\"width: 30px; height: 30px;background-color: rgb(202, 222, 240);\"></td><td title=\"Index: [7, 2]&#10;Color: (212, 228, 244)\" style=\"width: 30px; height: 30px;background-color: rgb(212, 228, 244);\"></td><td title=\"Index: [7, 3]&#10;Color: (210, 227, 243)\" style=\"width: 30px; height: 30px;background-color: rgb(210, 227, 243);\"></td><td title=\"Index: [7, 4]&#10;Color: (171, 208, 230)\" style=\"width: 30px; height: 30px;background-color: rgb(171, 208, 230);\"></td><td title=\"Index: [7, 5]&#10;Color: (212, 228, 244)\" style=\"width: 30px; height: 30px;background-color: rgb(212, 228, 244);\"></td><td title=\"Index: [7, 6]&#10;Color: (221, 234, 247)\" style=\"width: 30px; height: 30px;background-color: rgb(221, 234, 247);\"></td><td title=\"Index: [7, 7]&#10;Color: (241, 247, 253)\" style=\"width: 30px; height: 30px;background-color: rgb(241, 247, 253);\"></td><td title=\"Index: [7, 8]&#10;Color: (188, 215, 235)\" style=\"width: 30px; height: 30px;background-color: rgb(188, 215, 235);\"></td><td title=\"Index: [7, 9]&#10;Color: (203, 222, 241)\" style=\"width: 30px; height: 30px;background-color: rgb(203, 222, 241);\"></td></tr><tr><td title=\"Index: [8, 0]&#10;Color: (206, 224, 242)\" style=\"width: 30px; height: 30px;background-color: rgb(206, 224, 242);\"></td><td title=\"Index: [8, 1]&#10;Color: (189, 215, 236)\" style=\"width: 30px; height: 30px;background-color: rgb(189, 215, 236);\"></td><td title=\"Index: [8, 2]&#10;Color: (200, 220, 240)\" style=\"width: 30px; height: 30px;background-color: rgb(200, 220, 240);\"></td><td title=\"Index: [8, 3]&#10;Color: (242, 248, 253)\" style=\"width: 30px; height: 30px;background-color: rgb(242, 248, 253);\"></td><td title=\"Index: [8, 4]&#10;Color: (173, 208, 230)\" style=\"width: 30px; height: 30px;background-color: rgb(173, 208, 230);\"></td><td title=\"Index: [8, 5]&#10;Color: (161, 203, 226)\" style=\"width: 30px; height: 30px;background-color: rgb(161, 203, 226);\"></td><td title=\"Index: [8, 6]&#10;Color: (188, 215, 235)\" style=\"width: 30px; height: 30px;background-color: rgb(188, 215, 235);\"></td><td title=\"Index: [8, 7]&#10;Color: (237, 244, 252)\" style=\"width: 30px; height: 30px;background-color: rgb(237, 244, 252);\"></td><td title=\"Index: [8, 8]&#10;Color: (171, 208, 230)\" style=\"width: 30px; height: 30px;background-color: rgb(171, 208, 230);\"></td><td title=\"Index: [8, 9]&#10;Color: (220, 233, 246)\" style=\"width: 30px; height: 30px;background-color: rgb(220, 233, 246);\"></td></tr><tr><td title=\"Index: [9, 0]&#10;Color: (199, 219, 239)\" style=\"width: 30px; height: 30px;background-color: rgb(199, 219, 239);\"></td><td title=\"Index: [9, 1]&#10;Color: (176, 210, 231)\" style=\"width: 30px; height: 30px;background-color: rgb(176, 210, 231);\"></td><td title=\"Index: [9, 2]&#10;Color: (205, 224, 241)\" style=\"width: 30px; height: 30px;background-color: rgb(205, 224, 241);\"></td><td title=\"Index: [9, 3]&#10;Color: (247, 251, 255)\" style=\"width: 30px; height: 30px;background-color: rgb(247, 251, 255);\"></td><td title=\"Index: [9, 4]&#10;Color: (234, 243, 251)\" style=\"width: 30px; height: 30px;background-color: rgb(234, 243, 251);\"></td><td title=\"Index: [9, 5]&#10;Color: (240, 246, 253)\" style=\"width: 30px; height: 30px;background-color: rgb(240, 246, 253);\"></td><td title=\"Index: [9, 6]&#10;Color: (228, 239, 249)\" style=\"width: 30px; height: 30px;background-color: rgb(228, 239, 249);\"></td><td title=\"Index: [9, 7]&#10;Color: (227, 238, 249)\" style=\"width: 30px; height: 30px;background-color: rgb(227, 238, 249);\"></td><td title=\"Index: [9, 8]&#10;Color: (202, 221, 240)\" style=\"width: 30px; height: 30px;background-color: rgb(202, 221, 240);\"></td><td title=\"Index: [9, 9]&#10;Color: (214, 229, 244)\" style=\"width: 30px; height: 30px;background-color: rgb(214, 229, 244);\"></td></tr></tbody></table>"
      ],
      "text/plain": [
       "array([[ 0.80001371,  0.98275624,  0.88787432,  0.16333042,  0.66049242,\n",
       "         0.67315358,  0.99763053,  0.16350211,  0.99448951,  0.56692347],\n",
       "       [ 2.59472784,  2.15868355,  2.69327649,  1.10169917,  2.25891213,\n",
       "         1.67097649,  2.55203371,  0.82246251,  2.64336805,  1.31979763],\n",
       "       [ 0.94550431,  0.39490185,  0.19006545,  0.44345245,  0.79186949,\n",
       "         0.75706902,  0.47831066,  0.67986419,  0.85829756,  0.21852208],\n",
       "       [ 0.22034536,  0.99442723,  0.13482489,  0.95163132,  0.7193018 ,\n",
       "         0.87536356,  0.83756409,  0.88255772,  0.51785484,  0.44526037],\n",
       "       [ 0.78725748,  0.35803835,  0.5059811 ,  0.88986711,  0.71204795,\n",
       "         0.30527002,  0.93034801,  0.3091078 ,  0.59675705,  0.9584574 ],\n",
       "       [ 0.67656376,  0.8488696 ,  0.53659572,  0.30982405,  0.63308506,\n",
       "         0.81000526,  0.4737756 ,  0.58786662,  0.07767483,  0.68672709],\n",
       "       [ 0.85685114,  0.30748991,  0.36442762,  0.7319827 ,  0.25492122,\n",
       "         0.71637175,  0.33031577,  0.72363591,  0.17570073,  0.61848201],\n",
       "       [ 0.9427425 ,  0.61892937,  0.48555586,  0.52210562,  0.90698553,\n",
       "         0.48646477,  0.36085379,  0.09499447,  0.773052  ,  0.6153499 ],\n",
       "       [ 0.57389578,  0.76309048,  0.65753382,  0.07453091,  0.89468832,\n",
       "         0.98433836,  0.77048586,  0.15237972,  0.90242259,  0.37817773],\n",
       "       [ 0.67165938,  0.86824039,  0.58468977,  0.00905944,  0.18145763,\n",
       "         0.10561946,  0.26331185,  0.27222294,  0.63229539,  0.4684873 ]])"
      ]
     },
     "execution_count": 100,
     "metadata": {},
     "output_type": "execute_result"
    }
   ],
   "source": [
    "a[1,:] = a[1,:] + a[0,:]\n",
    "a"
   ]
  },
  {
   "cell_type": "code",
   "execution_count": null,
   "metadata": {
    "collapsed": true
   },
   "outputs": [],
   "source": []
  }
 ],
 "metadata": {
  "kernelspec": {
   "display_name": "Python 2",
   "language": "python",
   "name": "python2"
  },
  "language_info": {
   "codemirror_mode": {
    "name": "ipython",
    "version": 2
   },
   "file_extension": ".py",
   "mimetype": "text/x-python",
   "name": "python",
   "nbconvert_exporter": "python",
   "pygments_lexer": "ipython2",
   "version": "2.7.6"
  }
 },
 "nbformat": 4,
 "nbformat_minor": 0
}
