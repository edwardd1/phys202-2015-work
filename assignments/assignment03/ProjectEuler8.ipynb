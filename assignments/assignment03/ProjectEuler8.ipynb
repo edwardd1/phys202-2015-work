{
 "cells": [
  {
   "cell_type": "markdown",
   "metadata": {
    "nbgrader": {}
   },
   "source": [
    "# Project Euler: Problem 8"
   ]
  },
  {
   "cell_type": "markdown",
   "metadata": {
    "nbgrader": {}
   },
   "source": [
    "https://projecteuler.net/problem=8\n",
    "\n",
    "The four adjacent digits in the 1000-digit number that have the greatest product are 9 × 9 × 8 × 9 = 5832.\n",
    "\n",
    "(see the number below)\n",
    "\n",
    "Find the thirteen adjacent digits in the 1000-digit number that have the greatest product. What is the value of this product?\n",
    "\n",
    "Use NumPy for this computation"
   ]
  },
  {
   "cell_type": "code",
   "execution_count": 1,
   "metadata": {
    "collapsed": true,
    "nbgrader": {}
   },
   "outputs": [],
   "source": [
    "import numpy as np"
   ]
  },
  {
   "cell_type": "code",
   "execution_count": 46,
   "metadata": {
    "collapsed": false,
    "nbgrader": {}
   },
   "outputs": [],
   "source": [
    "d1000 = 7316717653133062491922511967442657474235534919493496983520312774506326239578318016984801869478851843858615607891129494954595017379583319528532088055111254069874715852386305071569329096329522744304355766896648950445244523161731856403098711121722383113622298934233803081353362766142828064444866452387493035890729629049156044077239071381051585930796086670172427121883998797908792274921901699720888093776657273330010533678812202354218097512545405947522435258490771167055601360483958644670632441572215539753697817977846174064955149290862569321978468622482839722413756570560574902614079729686524145351004748216637048440319989000889524345065854122758866688116427171479924442928230863465674813919123162824586178664583591245665294765456828489128831426076900422421902267105562632111110937054421750694165896040807198403850962455444362981230987879927244284909188845801561660979191338754992005240636899125607176060588611646710940507754100225698315520005593572972571636269561882670428252483600823257530420752963450"
   ]
  },
  {
   "cell_type": "code",
   "execution_count": 61,
   "metadata": {
    "collapsed": false,
    "deletable": false,
    "nbgrader": {
     "checksum": "6cff4e8e53b15273846c3aecaea84a3d",
     "solution": true
    }
   },
   "outputs": [
    {
     "name": "stdout",
     "output_type": "stream",
     "text": [
      "23514624000\n",
      "0\n"
     ]
    }
   ],
   "source": [
    "e1000 = str(d1000)\n",
    "c = 0\n",
    "n = -1\n",
    "x = 1\n",
    "product = 0\n",
    "\n",
    "a = np.ones((13),int) #See I used numpy\n",
    "while c<1000: #The loop goes through the entire sequence\n",
    "    c = c + 1\n",
    "    n = n + 1\n",
    "    #Each value of the array is shifted over 1, and the new value is placed at the 13th spot\n",
    "    a[0] = a[1]\n",
    "    a[1] = a[2]\n",
    "    a[2] = a[3]\n",
    "    a[3] = a[4]\n",
    "    a[4] = a[5]\n",
    "    a[5] = a[6]\n",
    "    a[6] = a[7]\n",
    "    a[7] = a[8]\n",
    "    a[8] = a[9]\n",
    "    a[9] = a[10]\n",
    "    a[10] = a[11]\n",
    "    a[11] = a[12]\n",
    "    a[12] = int(e1000[n])\n",
    "    x = np.cumprod(a)  #The product of the array\n",
    "    x = x[12]\n",
    "    if product < x:  #Replaces the product if it is larger than the largest so far.\n",
    "        product = x\n",
    "print (product)\n",
    "print (x)\n",
    "#raise NotImplementedError()"
   ]
  },
  {
   "cell_type": "code",
   "execution_count": 44,
   "metadata": {
    "collapsed": true,
    "deletable": false,
    "nbgrader": {
     "checksum": "21332c13eb4f8f18191bd8d47414b7fc",
     "grade": true,
     "grade_id": "projecteuler8",
     "points": 10
    }
   },
   "outputs": [],
   "source": [
    "assert True # leave this for grading"
   ]
  }
 ],
 "metadata": {
  "kernelspec": {
   "display_name": "Python 3",
   "language": "python",
   "name": "python3"
  },
  "language_info": {
   "codemirror_mode": {
    "name": "ipython",
    "version": 3
   },
   "file_extension": ".py",
   "mimetype": "text/x-python",
   "name": "python",
   "nbconvert_exporter": "python",
   "pygments_lexer": "ipython3",
   "version": "3.4.0"
  }
 },
 "nbformat": 4,
 "nbformat_minor": 0
}
