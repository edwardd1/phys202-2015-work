{
 "cells": [
  {
   "cell_type": "code",
   "execution_count": 2,
   "metadata": {
    "collapsed": false
   },
   "outputs": [
    {
     "name": "stderr",
     "output_type": "stream",
     "text": [
      ":0: FutureWarning: IPython widgets are experimental and may change in the future.\n"
     ]
    }
   ],
   "source": [
    "%matplotlib inline\n",
    "import matplotlib.pyplot as plt\n",
    "from matplotlib.pylab import *\n",
    "from IPython.html.widgets import interact\n",
    "from scipy.interpolate import griddata\n",
    "import numpy as np"
   ]
  },
  {
   "cell_type": "code",
   "execution_count": 3,
   "metadata": {
    "collapsed": false
   },
   "outputs": [
    {
     "name": "stdout",
     "output_type": "stream",
     "text": [
      "(1797, 64)\n"
     ]
    }
   ],
   "source": [
    "from sklearn.datasets import load_digits\n",
    "digits = load_digits()\n",
    "print(digits.data.shape)"
   ]
  },
  {
   "cell_type": "code",
   "execution_count": 4,
   "metadata": {
    "collapsed": false
   },
   "outputs": [],
   "source": [
    "\"\"\"Initialize\n",
    "Creates the random weights that connect the input to the output.  \n",
    "Currently it uses an input layer, a hidden layer, and an output layer.\"\"\"\n",
    "\n",
    "#ni = number of inputs\n",
    "#nh = hidden nodes\n",
    "#no = output nodes\n",
    "\n",
    "ni = 64\n",
    "nh = 64\n",
    "no = 10\n",
    "\n",
    "w = [np.random.rand(ni,nh),np.random.rand(nh,no)]"
   ]
  },
  {
   "cell_type": "code",
   "execution_count": 5,
   "metadata": {
    "collapsed": true
   },
   "outputs": [],
   "source": [
    "\"\"\"Using matrix multiplication, the input is turned into the output\"\"\"\n",
    "def feed_forward(n,w):\n",
    "    out = [0,0]\n",
    "    out[0] = np.dot(n,w[0])\n",
    "    out[1] = np.dot(out[0],w[1])\n",
    "    return out"
   ]
  },
  {
   "cell_type": "code",
   "execution_count": 6,
   "metadata": {
    "collapsed": false
   },
   "outputs": [],
   "source": [
    "m = [[[1,0],[0,1]],[[1,0],[0,1]]]\n",
    "n = [1,3]\n",
    "assert (feed_forward(n,m)[1][0] == 1)\n",
    "assert (feed_forward(n,m)[1][1] == 3)"
   ]
  },
  {
   "cell_type": "code",
   "execution_count": 7,
   "metadata": {
    "collapsed": false
   },
   "outputs": [],
   "source": [
    "\"\"\"Here the learning data is fed to the program and the error is computed.\n",
    "After the batch is done, the sum of the changes that need to be made are computed and executed.\"\"\"\n",
    "def update_batch(n,w,batch,c):\n",
    "    \n",
    "    c = c + 1\n",
    "    error = 0\n",
    "    \n",
    "    x = np.matrix(digits.images[n]) #These few lines turn the input data into the type of array the network understands\n",
    "    x = np.reshape(x,(1,64))\n",
    "    x = x/(np.sum(x)*5)\n",
    "    \n",
    "    p = digits.target[n]  #This determines the perfect result for a given input.  Namely, a 1 for the output of\n",
    "    ideal = np.zeros((1,10)) #the correct number and 0 elsewhere\n",
    "    ideal[0,p] = 1 \n",
    "    \n",
    "    out = feed_forward(x,w)   #The full output of the network for the hidden and output layers\n",
    "    err1 = (ideal - out[1])   #The error at the output layer is computed\n",
    "    modw1 = np.dot(np.reshape(out[0],(nh,1)),np.reshape(err1,(1,no)))  #The gradient of the error is computed\n",
    "    err0 = np.dot(err1,np.transpose(w[1]))  #The error at the hidden layer is computed\n",
    "    modw0 = np.dot(np.reshape(np.transpose(x),(ni,1)),np.reshape(err0,(1,nh)))  #The gradient of that error is computed\n",
    "    \n",
    "    if batch == 0:     #These four lines start or update the current batch\n",
    "        batch = [err0,modw0,err1,modw1]\n",
    "    else:\n",
    "        batch = batch + [err0,modw0,err1,modw1]\n",
    "\n",
    "    if c > 10:   #After the batch size is reached, the weights are updated and the batch is reset\n",
    "        w = backprop(w,batch)\n",
    "        batch = 0\n",
    "        c = 0\n",
    "        \n",
    "    if p != np.argmax(out[1]):  #If the network guessed the wrong number, output an error of 1\n",
    "        error =  1\n",
    "        \n",
    "    return [w,error,batch,c]"
   ]
  },
  {
   "cell_type": "code",
   "execution_count": 8,
   "metadata": {
    "collapsed": false
   },
   "outputs": [],
   "source": [
    "def backprop(w,batch):  #This updates the weights of the network accordin to the batch\n",
    "    LC = .01   #The learning constant determines how large a change to the network will be\n",
    "    err0 = batch[0]\n",
    "    modw0 = batch[1]\n",
    "    err1 = batch[2]\n",
    "    modw1 = batch[3]\n",
    "    w[1] = w[1] + LC*modw1\n",
    "    w[0] = w[0] + LC*modw0\n",
    "    return w"
   ]
  },
  {
   "cell_type": "code",
   "execution_count": 9,
   "metadata": {
    "collapsed": true
   },
   "outputs": [],
   "source": [
    "x = np.random.permutation(1700)\n",
    "x1 = x[0:1000]\n",
    "x2 = x[1000:1700]"
   ]
  },
  {
   "cell_type": "code",
   "execution_count": 47,
   "metadata": {
    "collapsed": false
   },
   "outputs": [
    {
     "name": "stdout",
     "output_type": "stream",
     "text": [
      "73\n"
     ]
    }
   ],
   "source": [
    "#The network gets a sample of 1000 digits and practices with them\n",
    "h = 0\n",
    "error = 0\n",
    "c = 0\n",
    "batch = 0\n",
    "\n",
    "while h < 10:\n",
    "    error = 0\n",
    "    for n in x1:\n",
    "        bat = update_batch(n,w,batch,c)\n",
    "        w = bat[0]\n",
    "        error = error + bat[1]\n",
    "        batch = bat[2]\n",
    "        c = bat[3]\n",
    "        \n",
    "    h = h + 1\n",
    "print (error)"
   ]
  },
  {
   "cell_type": "code",
   "execution_count": 62,
   "metadata": {
    "collapsed": true
   },
   "outputs": [],
   "source": [
    "# np.save('weights0', w[0])\n",
    "# np.save('weights1', w[1])"
   ]
  },
  {
   "cell_type": "code",
   "execution_count": 65,
   "metadata": {
    "collapsed": false
   },
   "outputs": [],
   "source": [
    "w[0] = np.load('weights0.npy')\n",
    "w[1] = np.load('weights1.npy')"
   ]
  },
  {
   "cell_type": "code",
   "execution_count": 66,
   "metadata": {
    "collapsed": false
   },
   "outputs": [
    {
     "name": "stdout",
     "output_type": "stream",
     "text": [
      "61\n"
     ]
    }
   ],
   "source": [
    "#The network is tested with an additional 700 digits.  It is still learning, but knowing the answer does not assist its error result.\n",
    "error = 0\n",
    "n = 1000\n",
    "for n in x2:\n",
    "\n",
    "    bat = update_batch(n,w,batch,c)\n",
    "    #w = bat[0]\n",
    "    error = error + bat[1]\n",
    "    batch = bat[2]\n",
    "    c = bat[3]\n",
    "    n = n + 1\n",
    "print (error)"
   ]
  },
  {
   "cell_type": "code",
   "execution_count": 16,
   "metadata": {
    "collapsed": true
   },
   "outputs": [],
   "source": [
    "#The network in its final form, a digit guesser.\n",
    "def guess(n,w):\n",
    "    x = np.matrix(digits.images[n])\n",
    "    x = np.reshape(x,(1,64))\n",
    "    x = x/(np.sum(x)*5)\n",
    "    print(\"Guess: \",np.argmax(feed_forward(x,w)[1]), \"Actual: \", digits.target[n])"
   ]
  },
  {
   "cell_type": "code",
   "execution_count": 17,
   "metadata": {
    "collapsed": true
   },
   "outputs": [],
   "source": [
    "b = 1700"
   ]
  },
  {
   "cell_type": "code",
   "execution_count": 30,
   "metadata": {
    "collapsed": false
   },
   "outputs": [
    {
     "name": "stdout",
     "output_type": "stream",
     "text": [
      "Guess:  7 Actual:  3\n"
     ]
    }
   ],
   "source": [
    "guess(b,w)\n",
    "b = b + 1"
   ]
  },
  {
   "cell_type": "code",
   "execution_count": null,
   "metadata": {
    "collapsed": true
   },
   "outputs": [],
   "source": []
  }
 ],
 "metadata": {
  "kernelspec": {
   "display_name": "Python 3",
   "language": "python",
   "name": "python3"
  },
  "language_info": {
   "codemirror_mode": {
    "name": "ipython",
    "version": 3
   },
   "file_extension": ".py",
   "mimetype": "text/x-python",
   "name": "python",
   "nbconvert_exporter": "python",
   "pygments_lexer": "ipython3",
   "version": "3.4.0"
  }
 },
 "nbformat": 4,
 "nbformat_minor": 0
}
