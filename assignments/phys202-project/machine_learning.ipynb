{
 "cells": [
  {
   "cell_type": "markdown",
   "metadata": {},
   "source": [
    "This is an alternative to a neural network that can also show the ability to recognize digits.  Its accuracy is very similar to the neural network at around 90%, though better optimized neural networks can do much better than that.  Its basic algorithm is to take the difference between a given image and a sample image that it creates over time."
   ]
  },
  {
   "cell_type": "code",
   "execution_count": 7,
   "metadata": {
    "collapsed": false
   },
   "outputs": [],
   "source": [
    "%matplotlib inline\n",
    "import matplotlib.pyplot as plt\n",
    "from matplotlib.pylab import *\n",
    "from IPython.html.widgets import interact\n",
    "from scipy.interpolate import griddata\n",
    "import numpy as np"
   ]
  },
  {
   "cell_type": "code",
   "execution_count": 8,
   "metadata": {
    "collapsed": false
   },
   "outputs": [
    {
     "name": "stdout",
     "output_type": "stream",
     "text": [
      "(1797, 64)\n"
     ]
    }
   ],
   "source": [
    "from sklearn.datasets import load_digits\n",
    "digits = load_digits()\n",
    "print(digits.data.shape)"
   ]
  },
  {
   "cell_type": "code",
   "execution_count": 9,
   "metadata": {
    "collapsed": false
   },
   "outputs": [],
   "source": [
    "\"\"\"Initialize the 10 sample images of each digit\"\"\"\n",
    "i = 0\n",
    "w = [0,0,0,0,0,0,0,0,0,0]\n",
    "while i < 10:\n",
    "    w[i] = np.ones((8,8))\n",
    "    w[i] = np.matrix(w[i])\n",
    "    w[i] = w[i]/np.matrix.sum(w[i])\n",
    "    i = i + 1"
   ]
  },
  {
   "cell_type": "code",
   "execution_count": 4,
   "metadata": {
    "collapsed": false
   },
   "outputs": [],
   "source": [
    "def check_number(n,w,error):\n",
    "    \n",
    "    p = digits.target[n]\n",
    "    x = np.matrix(digits.images[n])\n",
    "    x = x/np.matrix.sum(x)\n",
    "\n",
    "    u = -1\n",
    "    d = 10\n",
    "    \n",
    "    for i in w:  #For the input image and each sample image, take the difference and find the smallest error.\n",
    "        u = u + 1\n",
    "        z = np.absolute(x-i)\n",
    "        c = np.matrix.sum(z)\n",
    "        if c < d:\n",
    "            d = c\n",
    "            t = u\n",
    "        \n",
    "    if t != p:  #If the answer was incorrect, add a weak version of the input image to the correct sample image and subtract\n",
    "                #a weaker version of the imput from the sample image it guessed\n",
    "        w[t] = w[t] - (x/200)\n",
    "        w[t] = w[t]/np.matrix.sum(w[t])\n",
    "        \n",
    "        w[p] = w[p] + (x/50)\n",
    "        w[p] = w[p]/np.matrix.sum(w[p])\n",
    "        error = error + 1\n",
    "    return [w,error]"
   ]
  },
  {
   "cell_type": "code",
   "execution_count": 5,
   "metadata": {
    "collapsed": false
   },
   "outputs": [
    {
     "name": "stdout",
     "output_type": "stream",
     "text": [
      "177 / 1000 -> 82.3 % correct\n",
      "93 / 1000 -> 90.7 % correct\n",
      "70 / 1000 -> 93.0 % correct\n",
      "77 / 1000 -> 92.30000000000001 % correct\n",
      "59 / 1000 -> 94.1 % correct\n",
      "57 / 1000 -> 94.3 % correct\n",
      "52 / 1000 -> 94.8 % correct\n",
      "44 / 1000 -> 95.6 % correct\n",
      "50 / 1000 -> 95.0 % correct\n",
      "35 / 1000 -> 96.5 % correct\n",
      "50 / 1000 -> 95.0 % correct\n",
      "39 / 1000 -> 96.1 % correct\n",
      "39 / 1000 -> 96.1 % correct\n",
      "35 / 1000 -> 96.5 % correct\n",
      "47 / 1000 -> 95.3 % correct\n",
      "42 / 1000 -> 95.8 % correct\n",
      "31 / 1000 -> 96.89999999999999 % correct\n",
      "38 / 1000 -> 96.2 % correct\n",
      "41 / 1000 -> 95.89999999999999 % correct\n",
      "30 / 1000 -> 97.0 % correct\n",
      "24 / 1000 -> 97.6 % correct\n",
      "28 / 1000 -> 97.2 % correct\n",
      "36 / 1000 -> 96.39999999999999 % correct\n",
      "26 / 1000 -> 97.39999999999999 % correct\n",
      "22 / 1000 -> 97.8 % correct\n",
      "17 / 1000 -> 98.3 % correct\n",
      "21 / 1000 -> 97.89999999999999 % correct\n",
      "17 / 1000 -> 98.3 % correct\n",
      "21 / 1000 -> 97.89999999999999 % correct\n",
      "13 / 1000 -> 98.7 % correct\n",
      "20 / 1000 -> 98.0 % correct\n",
      "17 / 1000 -> 98.3 % correct\n",
      "13 / 1000 -> 98.7 % correct\n",
      "12 / 1000 -> 98.8 % correct\n",
      "9 / 1000 -> 99.1 % correct\n",
      "9 / 1000 -> 99.1 % correct\n",
      "4 / 1000 -> 99.6 % correct\n",
      "11 / 1000 -> 98.9 % correct\n",
      "8 / 1000 -> 99.2 % correct\n",
      "8 / 1000 -> 99.2 % correct\n",
      "7 / 1000 -> 99.3 % correct\n",
      "6 / 1000 -> 99.4 % correct\n",
      "2 / 1000 -> 99.8 % correct\n",
      "0 / 1000 -> 100.0 % correct\n"
     ]
    },
    {
     "data": {
      "image/png": "[encoded data removed]",
      "text/plain": [
       "<matplotlib.figure.Figure at 0x7fc5d6166748>"
      ]
     },
     "metadata": {},
     "output_type": "display_data"
    },
    {
     "data": {
      "image/png": "[encoded data removed]",
      "text/plain": [
       "<matplotlib.figure.Figure at 0x7fc5d5c964a8>"
      ]
     },
     "metadata": {},
     "output_type": "display_data"
    },
    {
     "data": {
      "image/png": "[encoded data removed]",
      "text/plain": [
       "<matplotlib.figure.Figure at 0x7fc5d5bc0cf8>"
      ]
     },
     "metadata": {},
     "output_type": "display_data"
    },
    {
     "data": {
      "image/png": "[encoded data removed]",
      "text/plain": [
       "<matplotlib.figure.Figure at 0x7fc5d5a82d30>"
      ]
     },
     "metadata": {},
     "output_type": "display_data"
    },
    {
     "data": {
      "image/png": "[encoded data removed]",
      "text/plain": [
       "<matplotlib.figure.Figure at 0x7fc5d5c54240>"
      ]
     },
     "metadata": {},
     "output_type": "display_data"
    },
    {
     "data": {
      "image/png": "[encoded data removed]",
      "text/plain": [
       "<matplotlib.figure.Figure at 0x7fc5d5a88a20>"
      ]
     },
     "metadata": {},
     "output_type": "display_data"
    },
    {
     "data": {
      "image/png": "[encoded data removed]",
      "text/plain": [
       "<matplotlib.figure.Figure at 0x7fc5d5be7c50>"
      ]
     },
     "metadata": {},
     "output_type": "display_data"
    },
    {
     "data": {
      "image/png": "[encoded data removed]",
      "text/plain": [
       "<matplotlib.figure.Figure at 0x7fc5d5b6e860>"
      ]
     },
     "metadata": {},
     "output_type": "display_data"
    },
    {
     "data": {
      "image/png": "[encoded data removed]",
      "text/plain": [
       "<matplotlib.figure.Figure at 0x7fc5d5b32470>"
      ]
     },
     "metadata": {},
     "output_type": "display_data"
    },
    {
     "data": {
      "image/png": "[encoded data removed]",
      "text/plain": [
       "<matplotlib.figure.Figure at 0x7fc5d5b08400>"
      ]
     },
     "metadata": {},
     "output_type": "display_data"
    }
   ],
   "source": [
    "percent_error = 0\n",
    "while percent_error < 100:  #This section of code iterates through the first thousand \n",
    "                            #input images until it can guess them all correctly.\n",
    "    n = 0\n",
    "    ni = n\n",
    "    error = 0\n",
    "    while n < 1000:\n",
    "        error = check_number(n,w,error)[1]\n",
    "        w = check_number(n,w,error)[0]\n",
    "        n = n + 1\n",
    "\n",
    "    percent_error = -100*(((n-ni)-(check_number(n,w,error)[1]))/(ni-n))\n",
    "    print (check_number(n,w,error)[1], '/', n-ni, '->', percent_error, '% correct')\n",
    "\n",
    "#This displays the sample images, which in theory, look like each digit.\n",
    "j = -1\n",
    "for i in w:\n",
    "    j = j + 1\n",
    "    plt.matshow(w[j], cmap=cm.gray)"
   ]
  },
  {
   "cell_type": "code",
   "execution_count": 6,
   "metadata": {
    "collapsed": false
   },
   "outputs": [
    {
     "name": "stdout",
     "output_type": "stream",
     "text": [
      "60 / 700 -> 91.42857142857143 % correct\n"
     ]
    }
   ],
   "source": [
    "#Now test the program on unseen data.\n",
    "n = 1000\n",
    "ni = n\n",
    "error = 0\n",
    "\n",
    "while n < 1700:\n",
    "        error = check_number(n,w,error)[1]\n",
    "        #w = check_number(n,w,error)[0]\n",
    "        n = n + 1\n",
    "        \n",
    "percent_error = -100*(((n-ni)-(check_number(n,w,error)[1]))/(ni-n))\n",
    "print (check_number(n,w,error)[1], '/', n-ni, '->', percent_error, '% correct')"
   ]
  },
  {
   "cell_type": "code",
   "execution_count": 12,
   "metadata": {
    "collapsed": false
   },
   "outputs": [],
   "source": [
    "#The final form of the program, one that guesses the digit it is presented.\n",
    "def guess_number(n,w):\n",
    "\n",
    "    x = np.matrix(digits.images[n])\n",
    "    x = x/np.matrix.sum(x)\n",
    "    \n",
    "    d = 10\n",
    "    u = -1\n",
    "    \n",
    "    for i in w:\n",
    "        u = u + 1\n",
    "        z = np.absolute(x-i)\n",
    "        c = np.matrix.sum(z)\n",
    "        if c < d:\n",
    "            d = c\n",
    "            t = u\n",
    "        \n",
    "    print ('This looks like a', t)\n",
    "    plt.matshow(digits.images[n], cmap=cm.gray)\n",
    "    print(\"The right answer is\", digits.target[n])"
   ]
  },
  {
   "cell_type": "code",
   "execution_count": 13,
   "metadata": {
    "collapsed": true
   },
   "outputs": [],
   "source": [
    "h = 1700"
   ]
  },
  {
   "cell_type": "code",
   "execution_count": 16,
   "metadata": {
    "collapsed": false
   },
   "outputs": [
    {
     "name": "stdout",
     "output_type": "stream",
     "text": [
      "This looks like a 0\n",
      "The right answer is 5\n"
     ]
    },
    {
     "data": {
      "image/png": "[encoded data removed]",
      "text/plain": [
       "<matplotlib.figure.Figure at 0x7fc5d58545c0>"
      ]
     },
     "metadata": {},
     "output_type": "display_data"
    }
   ],
   "source": [
    "guess_number(h,w)\n",
    "h = h+1"
   ]
  },
  {
   "cell_type": "code",
   "execution_count": null,
   "metadata": {
    "collapsed": true
   },
   "outputs": [],
   "source": []
  }
 ],
 "metadata": {
  "kernelspec": {
   "display_name": "Python 3",
   "language": "python",
   "name": "python3"
  },
  "language_info": {
   "codemirror_mode": {
    "name": "ipython",
    "version": 3
   },
   "file_extension": ".py",
   "mimetype": "text/x-python",
   "name": "python",
   "nbconvert_exporter": "python",
   "pygments_lexer": "ipython3",
   "version": "3.4.0"
  }
 },
 "nbformat": 4,
 "nbformat_minor": 0
}
