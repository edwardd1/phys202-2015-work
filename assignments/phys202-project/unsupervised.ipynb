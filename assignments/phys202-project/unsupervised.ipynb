{
 "cells": [
  {
   "cell_type": "code",
   "execution_count": 45,
   "metadata": {
    "collapsed": false
   },
   "outputs": [],
   "source": [
    "%matplotlib inline\n",
    "import matplotlib.pyplot as plt\n",
    "from matplotlib.pylab import *\n",
    "from IPython.html.widgets import interact\n",
    "from scipy.interpolate import griddata"
   ]
  },
  {
   "cell_type": "code",
   "execution_count": 46,
   "metadata": {
    "collapsed": false
   },
   "outputs": [
    {
     "name": "stdout",
     "output_type": "stream",
     "text": [
      "(1797, 64)\n"
     ]
    }
   ],
   "source": [
    "from sklearn.datasets import load_digits\n",
    "digits = load_digits()\n",
    "print(digits.data.shape)"
   ]
  },
  {
   "cell_type": "code",
   "execution_count": 84,
   "metadata": {
    "collapsed": false
   },
   "outputs": [],
   "source": [
    "\"\"\"Initialize\"\"\"\n",
    "i = 0\n",
    "w = [0]\n",
    "w_labels = [0]\n",
    "# while i < 10:\n",
    "#     w[i] = np.ones((8,8))\n",
    "#     w[i] = np.matrix(w[i])\n",
    "#     w[i] = w[i]/np.matrix.sum(w[i])\n",
    "#     i = i + 1\n",
    "w[0] = [[ 0.00334547,  0.00334547,  0.01097153,  0.03222196,  0.03193905,\n",
    "          0.01620387,  0.00377666,  0.00334547],\n",
    "        [ 0.00334547,  0.00405356,  0.02532799,  0.03907802,  0.03221521,\n",
    "          0.02746106,  0.00747277,  0.00334547],\n",
    "        [ 0.00334547,  0.0090629 ,  0.03924053,  0.0274577 ,  0.01194078,\n",
    "          0.02944431,  0.01114613,  0.00334547],\n",
    "        [ 0.00334547,  0.0119045 ,  0.0364323 ,  0.01658999,  0.00333863,\n",
    "          0.02830166,  0.01750053,  0.00334547],\n",
    "        [ 0.00334547,  0.01599265,  0.03233643,  0.00794424,  0.00435772,\n",
    "          0.03050475,  0.01526149,  0.00334547],\n",
    "        [ 0.00334547,  0.01061631,  0.03160636,  0.01775214,  0.01772805,\n",
    "          0.0346209 ,  0.01336351,  0.00334547],\n",
    "        [ 0.00334547,  0.00402756,  0.02751747,  0.0317268 ,  0.03272543,\n",
    "          0.03308153,  0.00801715,  0.00334547],\n",
    "        [ 0.00334547,  0.00347006,  0.01151108,  0.03070545,  0.03371705,\n",
    "          0.01739717,  0.00406415,  0.00334547]]"
   ]
  },
  {
   "cell_type": "code",
   "execution_count": 85,
   "metadata": {
    "collapsed": false
   },
   "outputs": [],
   "source": [
    "def check_number(n,w,error,j):\n",
    "    \n",
    "    p = digits.target[n]\n",
    "    x = np.matrix(digits.images[n])\n",
    "    x = x/np.matrix.sum(x)\n",
    "    \n",
    "    d = 1000\n",
    "    u = -1\n",
    "    \n",
    "    for i in w:\n",
    "        u = u + 1\n",
    "        z = np.absolute(x - i)\n",
    "        c = np.matrix.sum(z)\n",
    "        if c < d:\n",
    "            d = c\n",
    "            t = u\n",
    "      \n",
    "    if d < (1.5/(j)):\n",
    "        #w[t] = w[t] + (x/10)\n",
    "        #w[t] = w[t]/np.matrix.sum(w[t])\n",
    "        #print('image', p, 'guess', w_labels[t])\n",
    "        if p != w_labels[t]:\n",
    "            error = error + 1\n",
    "        \n",
    "    elif d > (1.5/(j)):\n",
    "        w.append(0)\n",
    "        w_labels.append(0)\n",
    "        w[t + 1] = x\n",
    "        w_labels[t + 1] = p\n",
    "        \n",
    "    return [w,error,j]"
   ]
  },
  {
   "cell_type": "code",
   "execution_count": 86,
   "metadata": {
    "collapsed": true
   },
   "outputs": [],
   "source": [
    "j = 1.5"
   ]
  },
  {
   "cell_type": "code",
   "execution_count": 95,
   "metadata": {
    "collapsed": false
   },
   "outputs": [
    {
     "name": "stdout",
     "output_type": "stream",
     "text": [
      "167 / 700 -> 76.14285714285714 % correct\n",
      "161\n",
      "161\n",
      "2.400000000000001\n"
     ]
    }
   ],
   "source": [
    "#plt.matshow(y, cmap=cm.gray)\n",
    "\n",
    "percent_error = 0\n",
    "check_number1 = []\n",
    "\n",
    "h = -1\n",
    "\n",
    "j = j + .1\n",
    "h = h + 1\n",
    "n = 300\n",
    "ni = n\n",
    "error = 0\n",
    "\n",
    "while n < 1000:\n",
    "    check_number1 = check_number(n,w,error,j)\n",
    "    j = check_number1[2]\n",
    "    error = check_number1[1]\n",
    "    w = check_number1[0]\n",
    "    n = n + 1\n",
    "percent_error = -100*(((n-ni)-(error))/(ni-n))\n",
    "print (error, '/', n-ni, '->', percent_error, '% correct')\n",
    "print(len(w))\n",
    "\n",
    "# j = -1\n",
    "# for i in w:\n",
    "#     j = j + 1\n",
    "#     plt.matshow(w[j], cmap=cm.gray)\n",
    "print(len(w))\n",
    "print(j)"
   ]
  },
  {
   "cell_type": "code",
   "execution_count": 59,
   "metadata": {
    "collapsed": false
   },
   "outputs": [],
   "source": [
    "j = -1\n",
    "for i in w:\n",
    "    j = j + 1\n",
    "    #Find the most similar and least useful arrays and throw them out/combine them  w[j]"
   ]
  },
  {
   "cell_type": "code",
   "execution_count": 96,
   "metadata": {
    "collapsed": false
   },
   "outputs": [
    {
     "name": "stdout",
     "output_type": "stream",
     "text": [
      "109 / 700 -> 84.42857142857143 % correct\n"
     ]
    }
   ],
   "source": [
    "n = 1000\n",
    "ni = n\n",
    "error = 0\n",
    "weight = np.ones((8,8))\n",
    "\n",
    "while n < 1700:\n",
    "    check_number1 = check_number(n,w,error,j)\n",
    "    j = check_number1[2]\n",
    "    error = check_number1[1]\n",
    "    w = check_number1[0]\n",
    "    n = n + 1\n",
    "        \n",
    "percent_error = -100*(((n-ni)-(error))/(ni-n))\n",
    "print (error, '/', n-ni, '->', percent_error, '% correct')"
   ]
  },
  {
   "cell_type": "code",
   "execution_count": 16,
   "metadata": {
    "collapsed": false
   },
   "outputs": [],
   "source": [
    "def check_guess(r):\n",
    "    check_number(r,w,error)\n",
    "    plt.matshow(digits.images[r], cmap=cm.gray)\n",
    "    print(\"The right answer is\", digits.target[r])"
   ]
  },
  {
   "cell_type": "code",
   "execution_count": 17,
   "metadata": {
    "collapsed": false
   },
   "outputs": [
    {
     "name": "stdout",
     "output_type": "stream",
     "text": [
      "The right answer is 9\n"
     ]
    },
    {
     "data": {
      "image/png": "[encoded data removed]",
      "text/plain": [
       "<matplotlib.figure.Figure at 0x7f1d63705be0>"
      ]
     },
     "metadata": {},
     "output_type": "display_data"
    }
   ],
   "source": [
    "check_guess(1326)"
   ]
  }
 ],
 "metadata": {
  "kernelspec": {
   "display_name": "Python 3",
   "language": "python",
   "name": "python3"
  },
  "language_info": {
   "codemirror_mode": {
    "name": "ipython",
    "version": 3
   },
   "file_extension": ".py",
   "mimetype": "text/x-python",
   "name": "python",
   "nbconvert_exporter": "python",
   "pygments_lexer": "ipython3",
   "version": "3.4.0"
  }
 },
 "nbformat": 4,
 "nbformat_minor": 0
}
